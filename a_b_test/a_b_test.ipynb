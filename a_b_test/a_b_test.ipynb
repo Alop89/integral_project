{
 "cells": [
  {
   "cell_type": "markdown",
   "metadata": {},
   "source": [
    "# Introducción "
   ]
  },
  {
   "cell_type": "markdown",
   "metadata": {},
   "source": [
    "# Objetivos \n",
    "\n",
    "El objetivo general de la prueba `recommender_system_test` es evaluar el impacto de un sistema de recomendaciones mejorado en el comportamiento de los usuarios en términos de conversión a través del embudo de pago. La prueba involucra dos grupos: el grupo de control (A) y el grupo experimental con el nuevo embudo de pago (B). La prueba se lanzó el 7 de diciembre de 2020, dejó de aceptar nuevos usuarios el 21 de diciembre de 2020 y finalizó el 1 de enero de 2021. La audiencia de la prueba consiste en el 15% de los nuevos usuarios de la región de la UE, con un número previsto de 6,000 participantes. El propósito de la prueba es medir si, dentro de los 14 días posteriores a la inscripción, los usuarios muestran una mejor conversión en vistas de la página del producto (`product_page`), en la acción de agregar artículos al carrito de compras (`product_cart`) y en las compras (`purchase`). Se espera que en cada etapa del embudo (`product_page → product_cart → purchase`), haya al menos un aumento del 10%. Los datos de la prueba deben descargarse, comprobarse para asegurar que la prueba se realizó correctamente, y analizarse para evaluar los resultados obtenidos.\n"
   ]
  },
  {
   "cell_type": "markdown",
   "metadata": {},
   "source": [
    "# Descomposición de la tarea\n",
    "\n",
    "* ..."
   ]
  },
  {
   "cell_type": "markdown",
   "metadata": {},
   "source": [
    "# Carga de librerías "
   ]
  },
  {
   "cell_type": "code",
   "execution_count": 4,
   "metadata": {},
   "outputs": [],
   "source": [
    "# Carga de librerías \n",
    "import os\n",
    "import pandas as pd\n",
    "import numpy as np\n",
    "import matplotlib.pyplot as plt\n",
    "import seaborn as sns\n",
    "from plotly import graph_objects as go"
   ]
  },
  {
   "cell_type": "markdown",
   "metadata": {},
   "source": [
    "# Carga de datos"
   ]
  },
  {
   "cell_type": "code",
   "execution_count": 5,
   "metadata": {},
   "outputs": [],
   "source": [
    "# Carga de datasets desde carpeta local\n",
    "data_path = os.path.join(\"..\", \"datasets\")\n",
    "\n",
    "dataset1_path = os.path.join(data_path, \"ab_project_marketing_events_us.csv\")\n",
    "dataset2_path = os.path.join(data_path, \"final_ab_events_upd_us.csv\")\n",
    "dataset3_path = os.path.join(data_path, \"final_ab_new_users_upd_us.csv\")\n",
    "dataset4_path = os.path.join(data_path, \"final_ab_participants_upd_us.csv\")\n",
    "\n",
    "ab_project_marketing_data = pd.read_csv(dataset1_path)\n",
    "final_ab_events_data = pd.read_csv(dataset2_path)\n",
    "final_ab_new_events_data = pd.read_csv(dataset3_path)\n",
    "final_ab_participants_data = pd.read_csv(dataset4_path)"
   ]
  },
  {
   "cell_type": "code",
   "execution_count": 6,
   "metadata": {},
   "outputs": [
    {
     "data": {
      "text/plain": [
       "'ab_project_marketing_data = pd.read_csv(\"/datasets/ab_project_marketing_events_us.csv\")\\nfinal_ab_events_data = pd.read_csv(\"/datasets/final_ab_events_upd_us.csv\")\\nfinal_ab_new_events_data = pd.read_csv(\"/datasets/final_ab_new_users_upd_us.csv\")\\nfinal_ab_participants_data = pd.read_csv(\"/datasets/final_ab_participants_upd_us.csv\")'"
      ]
     },
     "execution_count": 6,
     "metadata": {},
     "output_type": "execute_result"
    }
   ],
   "source": [
    "# Carga de datos en jupyter de platforma\n",
    "\n",
    "\"\"\"ab_project_marketing_data = pd.read_csv(\"/datasets/ab_project_marketing_events_us.csv\")\n",
    "final_ab_events_data = pd.read_csv(\"/datasets/final_ab_events_upd_us.csv\")\n",
    "final_ab_new_events_data = pd.read_csv(\"/datasets/final_ab_new_users_upd_us.csv\")\n",
    "final_ab_participants_data = pd.read_csv(\"/datasets/final_ab_participants_upd_us.csv\")\"\"\""
   ]
  },
  {
   "cell_type": "markdown",
   "metadata": {},
   "source": [
    "## Exploración inicial de datos"
   ]
  },
  {
   "cell_type": "markdown",
   "metadata": {},
   "source": [
    "### Revisión de dataset ab_project_marketing_data"
   ]
  },
  {
   "cell_type": "code",
   "execution_count": 7,
   "metadata": {},
   "outputs": [
    {
     "name": "stdout",
     "output_type": "stream",
     "text": [
      "                           name                   regions    start_dt  \\\n",
      "0      Christmas&New Year Promo             EU, N.America  2020-12-25   \n",
      "1  St. Valentine's Day Giveaway  EU, CIS, APAC, N.America  2020-02-14   \n",
      "2        St. Patric's Day Promo             EU, N.America  2020-03-17   \n",
      "3                  Easter Promo  EU, CIS, APAC, N.America  2020-04-12   \n",
      "4             4th of July Promo                 N.America  2020-07-04   \n",
      "\n",
      "    finish_dt  \n",
      "0  2021-01-03  \n",
      "1  2020-02-16  \n",
      "2  2020-03-19  \n",
      "3  2020-04-19  \n",
      "4  2020-07-11  \n",
      "\n",
      "<class 'pandas.core.frame.DataFrame'>\n",
      "RangeIndex: 14 entries, 0 to 13\n",
      "Data columns (total 4 columns):\n",
      " #   Column     Non-Null Count  Dtype \n",
      "---  ------     --------------  ----- \n",
      " 0   name       14 non-null     object\n",
      " 1   regions    14 non-null     object\n",
      " 2   start_dt   14 non-null     object\n",
      " 3   finish_dt  14 non-null     object\n",
      "dtypes: object(4)\n",
      "memory usage: 580.0+ bytes\n",
      "None\n"
     ]
    }
   ],
   "source": [
    "# Revisión de datos ab_project_data\n",
    "print(ab_project_marketing_data.head(5))\n",
    "print()\n",
    "print(ab_project_marketing_data.info())"
   ]
  },
  {
   "cell_type": "markdown",
   "metadata": {},
   "source": [
    "- `name`: el nombre del evento de marketing\n",
    "- `regions`: regiones donde se llevará a cabo la campaña publicitaria\n",
    "- `start_dt`: fecha de inicio de la campaña\n",
    "- `finish_dt`: fecha de finalización de la campaña"
   ]
  },
  {
   "cell_type": "code",
   "execution_count": 8,
   "metadata": {},
   "outputs": [],
   "source": [
    "# Cambio de formato de columna start_dt\n",
    "ab_project_marketing_data['start_dt'] = pd.to_datetime(ab_project_marketing_data['start_dt'])\n",
    "ab_project_marketing_data['finish_dt'] = pd.to_datetime(ab_project_marketing_data['finish_dt'])"
   ]
  },
  {
   "cell_type": "markdown",
   "metadata": {},
   "source": [
    "### Revisión de dataset final_ab_events_data"
   ]
  },
  {
   "cell_type": "code",
   "execution_count": 9,
   "metadata": {},
   "outputs": [
    {
     "name": "stdout",
     "output_type": "stream",
     "text": [
      "            user_id             event_dt event_name  details\n",
      "0  E1BDDCE0DAFA2679  2020-12-07 20:22:03   purchase    99.99\n",
      "1  7B6452F081F49504  2020-12-07 09:22:53   purchase     9.99\n",
      "2  9CD9F34546DF254C  2020-12-07 12:59:29   purchase     4.99\n",
      "3  96F27A054B191457  2020-12-07 04:02:40   purchase     4.99\n",
      "4  1FD7660FDF94CA1F  2020-12-07 10:15:09   purchase     4.99\n",
      "\n",
      "<class 'pandas.core.frame.DataFrame'>\n",
      "RangeIndex: 423761 entries, 0 to 423760\n",
      "Data columns (total 4 columns):\n",
      " #   Column      Non-Null Count   Dtype  \n",
      "---  ------      --------------   -----  \n",
      " 0   user_id     423761 non-null  object \n",
      " 1   event_dt    423761 non-null  object \n",
      " 2   event_name  423761 non-null  object \n",
      " 3   details     60314 non-null   float64\n",
      "dtypes: float64(1), object(3)\n",
      "memory usage: 12.9+ MB\n",
      "None\n"
     ]
    }
   ],
   "source": [
    "# Revisión de dataset final_ab_events_data\n",
    "print(final_ab_events_data.head())\n",
    "print()\n",
    "print(final_ab_events_data.info())"
   ]
  },
  {
   "cell_type": "markdown",
   "metadata": {},
   "source": [
    "- `user_id`\n",
    "- `event_dt`: fecha y hora del evento\n",
    "- `event_name`: nombre del tipo de evento\n",
    "- `details`: datos adicionales sobre el evento (por ejemplo, el pedido total en USD para los eventos `purchase`)"
   ]
  },
  {
   "cell_type": "code",
   "execution_count": 10,
   "metadata": {},
   "outputs": [],
   "source": [
    "# Cambio de formato de columna event_date\n",
    "final_ab_events_data['event_dt'] = pd.to_datetime(final_ab_events_data['event_dt'])"
   ]
  },
  {
   "cell_type": "code",
   "execution_count": 11,
   "metadata": {},
   "outputs": [
    {
     "data": {
      "text/plain": [
       "235704      NaN\n",
       "367812      NaN\n",
       "417395      NaN\n",
       "3070      99.99\n",
       "349011      NaN\n",
       "405491      NaN\n",
       "241930      NaN\n",
       "21208      4.99\n",
       "152206      NaN\n",
       "241037      NaN\n",
       "Name: details, dtype: float64"
      ]
     },
     "execution_count": 11,
     "metadata": {},
     "output_type": "execute_result"
    }
   ],
   "source": [
    "# Revisión de datos en la columna 'details'\n",
    "final_ab_events_data['details'].sample(10)"
   ]
  },
  {
   "cell_type": "code",
   "execution_count": 12,
   "metadata": {},
   "outputs": [
    {
     "name": "stdout",
     "output_type": "stream",
     "text": [
      "                 user_id            event_dt    event_name  details\n",
      "45652   E387BE3E42D68438 2020-12-22 22:56:59      purchase     4.99\n",
      "242124  C8ABA13613426B05 2020-12-07 07:44:21         login     0.00\n",
      "293189  1DEACD4780374FF4 2020-12-14 19:29:24         login     0.00\n",
      "392581  1862E009C8A4DACD 2020-12-23 04:39:07         login     0.00\n",
      "63222   AC7C385CBEBC2D78 2020-12-08 02:06:16  product_cart     0.00\n",
      "252441  B3F6B623A4E96DD5 2020-12-09 14:59:48         login     0.00\n",
      "363360  8EC85ACFA6A394FA 2020-12-21 10:04:42         login     0.00\n",
      "124661  7125F88F8C1A757E 2020-12-08 16:36:24  product_page     0.00\n",
      "3985    6C68D47386054C43 2020-12-09 17:03:31      purchase     4.99\n",
      "391604  BDFD5B22807A1DCF 2020-12-23 07:53:59         login     0.00\n"
     ]
    }
   ],
   "source": [
    "# Revisión de datos que contienen 'NaN' en la columna 'details'\n",
    "no_purchase = final_ab_events_data[final_ab_events_data['details'].isna()]\n",
    "no_purchase.sample(10)\n",
    "\n",
    "# Se aplica reemplazo de valores NaN por 0 \n",
    "final_ab_events_data.fillna({'details':0}, inplace = True)\n",
    "print(final_ab_events_data.sample(10))"
   ]
  },
  {
   "cell_type": "code",
   "execution_count": 13,
   "metadata": {},
   "outputs": [
    {
     "data": {
      "text/plain": [
       "event_name\n",
       "login           182465\n",
       "product_page    120862\n",
       "purchase         60314\n",
       "product_cart     60120\n",
       "Name: count, dtype: int64"
      ]
     },
     "execution_count": 13,
     "metadata": {},
     "output_type": "execute_result"
    }
   ],
   "source": [
    "# Verificación de los valores de eventos\n",
    "final_ab_events_data['event_name'].value_counts()"
   ]
  },
  {
   "cell_type": "markdown",
   "metadata": {},
   "source": [
    "Columna 'details' contiene información numérica y NaN, la documentación del dataset indica que tiene la cantidad en USD para cuando el evento es 'purchase'. Se infiere que los datos NaN son 0, ya que no representan una transacción concretada. \n",
    "Se observa que hay más valores de `purchase` que de `product_cart`, lo que puede sugerir que se evita esta última etapa y se puede comprar con algo parecido a un botón 'compra rápida'"
   ]
  },
  {
   "cell_type": "markdown",
   "metadata": {},
   "source": [
    "### Revisión de dataset final_ab_new_events_data"
   ]
  },
  {
   "cell_type": "code",
   "execution_count": 14,
   "metadata": {},
   "outputs": [
    {
     "name": "stdout",
     "output_type": "stream",
     "text": [
      "                user_id  first_date     region   device\n",
      "58141  DEBDF3B09AA48037  2020-12-20  N.America   iPhone\n",
      "27502  7DDE747C9C024FF2  2020-12-09         EU   iPhone\n",
      "43664  CC5E51CFA52E8463  2020-12-12         EU       PC\n",
      "43232  8C5967A3EC28773A  2020-12-18         EU  Android\n",
      "26325  087DFCB9E3F7BCF0  2020-12-09         EU   iPhone\n",
      "1753   9F4B7C7D64845781  2020-12-07         EU   iPhone\n",
      "49068  69FEB4629D5A8BBB  2020-12-19         EU       PC\n",
      "13453  B7B62610D29DEF22  2020-12-21         EU   iPhone\n",
      "48184  B63BB5743CB1BC70  2020-12-19  N.America  Android\n",
      "43681  0902526564A6C13C  2020-12-12         EU  Android\n",
      "\n",
      "<class 'pandas.core.frame.DataFrame'>\n",
      "RangeIndex: 58703 entries, 0 to 58702\n",
      "Data columns (total 4 columns):\n",
      " #   Column      Non-Null Count  Dtype \n",
      "---  ------      --------------  ----- \n",
      " 0   user_id     58703 non-null  object\n",
      " 1   first_date  58703 non-null  object\n",
      " 2   region      58703 non-null  object\n",
      " 3   device      58703 non-null  object\n",
      "dtypes: object(4)\n",
      "memory usage: 1.8+ MB\n",
      "None\n"
     ]
    }
   ],
   "source": [
    "# Revisión de datos en dataset final_ab_new_events_data\n",
    "print(final_ab_new_events_data.sample(10))\n",
    "print()\n",
    "print(final_ab_new_events_data.info())"
   ]
  },
  {
   "cell_type": "markdown",
   "metadata": {},
   "source": [
    "- `user_id`\n",
    "- `first_date`: fecha de inscripción\n",
    "- `region`\n",
    "- `device`: dispositivo utilizado para la inscripción"
   ]
  },
  {
   "cell_type": "code",
   "execution_count": 15,
   "metadata": {},
   "outputs": [],
   "source": [
    "# Se cambia el formato de la columna 'first_date' \n",
    "final_ab_new_events_data['first_date'] = pd.to_datetime(final_ab_new_events_data['first_date'])\n"
   ]
  },
  {
   "cell_type": "markdown",
   "metadata": {},
   "source": [
    "No contiene datos nulos y el único cambio realizado fue el formato de fecha en la columna 'first_date'"
   ]
  },
  {
   "cell_type": "markdown",
   "metadata": {},
   "source": [
    "### Revisión del dataset final_ab_participants_data"
   ]
  },
  {
   "cell_type": "code",
   "execution_count": 16,
   "metadata": {},
   "outputs": [
    {
     "name": "stdout",
     "output_type": "stream",
     "text": [
      "            user_id group                  ab_test\n",
      "0  D1ABA3E2887B6A73     A  recommender_system_test\n",
      "1  A7A3664BD6242119     A  recommender_system_test\n",
      "2  DABC14FDDFADD29E     A  recommender_system_test\n",
      "3  04988C5DF189632E     A  recommender_system_test\n",
      "4  4FF2998A348C484F     A  recommender_system_test\n",
      "\n",
      "<class 'pandas.core.frame.DataFrame'>\n",
      "RangeIndex: 14525 entries, 0 to 14524\n",
      "Data columns (total 3 columns):\n",
      " #   Column   Non-Null Count  Dtype \n",
      "---  ------   --------------  ----- \n",
      " 0   user_id  14525 non-null  object\n",
      " 1   group    14525 non-null  object\n",
      " 2   ab_test  14525 non-null  object\n",
      "dtypes: object(3)\n",
      "memory usage: 340.6+ KB\n",
      "None\n"
     ]
    }
   ],
   "source": [
    "# Revisión del dataset \n",
    "\n",
    "print(final_ab_participants_data.head())\n",
    "print()\n",
    "print(final_ab_participants_data.info())"
   ]
  },
  {
   "cell_type": "markdown",
   "metadata": {},
   "source": [
    "- `user_id`\n",
    "- `ab_test`: nombre de la prueba\n",
    "- `group`: el grupo de prueba al que pertenecía el usuario"
   ]
  },
  {
   "cell_type": "markdown",
   "metadata": {},
   "source": [
    "# Segmentación de datos para realizar test A/B"
   ]
  },
  {
   "cell_type": "markdown",
   "metadata": {},
   "source": [
    "Se requieren los datos que cumplan con las siguientes condiciones:\n",
    "* Usuarios que se hayan inscrito entre 7 y 18 de diciembre. \n",
    "* Que pertenezcan a la región de UE\n",
    "* "
   ]
  },
  {
   "cell_type": "code",
   "execution_count": null,
   "metadata": {},
   "outputs": [],
   "source": []
  }
 ],
 "metadata": {
  "kernelspec": {
   "display_name": "base",
   "language": "python",
   "name": "python3"
  },
  "language_info": {
   "codemirror_mode": {
    "name": "ipython",
    "version": 3
   },
   "file_extension": ".py",
   "mimetype": "text/x-python",
   "name": "python",
   "nbconvert_exporter": "python",
   "pygments_lexer": "ipython3",
   "version": "3.11.9"
  }
 },
 "nbformat": 4,
 "nbformat_minor": 2
}
