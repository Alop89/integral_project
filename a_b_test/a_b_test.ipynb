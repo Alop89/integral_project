{
 "cells": [
  {
   "cell_type": "markdown",
   "metadata": {},
   "source": [
    "# Introducción "
   ]
  },
  {
   "cell_type": "markdown",
   "metadata": {},
   "source": [
    "# Objetivos \n",
    "\n",
    "El objetivo general de la prueba `recommender_system_test` es evaluar el impacto de un sistema de recomendaciones mejorado en el comportamiento de los usuarios en términos de conversión a través del embudo de pago. La prueba involucra dos grupos: el grupo de control (A) y el grupo experimental con el nuevo embudo de pago (B). La prueba se lanzó el 7 de diciembre de 2020, dejó de aceptar nuevos usuarios el 21 de diciembre de 2020 y finalizó el 1 de enero de 2021. La audiencia de la prueba consiste en el 15% de los nuevos usuarios de la región de la UE, con un número previsto de 6,000 participantes. El propósito de la prueba es medir si, dentro de los 14 días posteriores a la inscripción, los usuarios muestran una mejor conversión en vistas de la página del producto (`product_page`), en la acción de agregar artículos al carrito de compras (`product_cart`) y en las compras (`purchase`). Se espera que en cada etapa del embudo (`product_page → product_cart → purchase`), haya al menos un aumento del 10%. Los datos de la prueba deben descargarse, comprobarse para asegurar que la prueba se realizó correctamente, y analizarse para evaluar los resultados obtenidos.\n"
   ]
  },
  {
   "cell_type": "markdown",
   "metadata": {},
   "source": [
    "# Descomposición de la tarea\n",
    "\n",
    "* ..."
   ]
  },
  {
   "cell_type": "markdown",
   "metadata": {},
   "source": [
    "# Carga de librerías "
   ]
  },
  {
   "cell_type": "code",
   "execution_count": 1,
   "metadata": {},
   "outputs": [],
   "source": [
    "# Carga de librerías \n",
    "import os\n",
    "import pandas as pd\n",
    "import numpy as np\n",
    "import matplotlib.pyplot as plt\n",
    "import seaborn as sns\n",
    "from plotly import graph_objects as go"
   ]
  },
  {
   "cell_type": "markdown",
   "metadata": {},
   "source": [
    "# Carga de datos"
   ]
  },
  {
   "cell_type": "code",
   "execution_count": 2,
   "metadata": {},
   "outputs": [],
   "source": [
    "# Carga de datasets desde carpeta local\n",
    "data_path = os.path.join(\"..\", \"datasets\")\n",
    "\n",
    "dataset1_path = os.path.join(data_path, \"ab_project_marketing_events_us.csv\")\n",
    "dataset2_path = os.path.join(data_path, \"final_ab_events_upd_us.csv\")\n",
    "dataset3_path = os.path.join(data_path, \"final_ab_new_users_upd_us.csv\")\n",
    "dataset4_path = os.path.join(data_path, \"final_ab_participants_upd_us.csv\")\n",
    "\n",
    "# el calendario de eventos de marketing para 2020\n",
    "ab_project_marketing_data = pd.read_csv(dataset1_path)\n",
    "\n",
    "# todos los usuarios que se registraron en línea desde 7 al 21 de diciembre\n",
    "final_ab_new_events_data = pd.read_csv(dataset3_path)\n",
    "\n",
    "# todos los eventos de los nuevos usuarios en el período comprendido entre el 7 de diciembre de 2020 y el 1 de enero de 2021\n",
    "final_ab_events_data = pd.read_csv(dataset2_path)\n",
    "\n",
    "# tabla con los datos de los participantes de la prueba\n",
    "final_ab_participants_data = pd.read_csv(dataset4_path)"
   ]
  },
  {
   "cell_type": "code",
   "execution_count": 3,
   "metadata": {},
   "outputs": [
    {
     "data": {
      "text/plain": [
       "'ab_project_marketing_data = pd.read_csv(\"/datasets/ab_project_marketing_events_us.csv\")\\nfinal_ab_events_data = pd.read_csv(\"/datasets/final_ab_events_upd_us.csv\")\\nfinal_ab_new_events_data = pd.read_csv(\"/datasets/final_ab_new_users_upd_us.csv\")\\nfinal_ab_participants_data = pd.read_csv(\"/datasets/final_ab_participants_upd_us.csv\")'"
      ]
     },
     "execution_count": 3,
     "metadata": {},
     "output_type": "execute_result"
    }
   ],
   "source": [
    "# Carga de datos en jupyter de platforma\n",
    "\n",
    "\"\"\"ab_project_marketing_data = pd.read_csv(\"/datasets/ab_project_marketing_events_us.csv\")\n",
    "final_ab_events_data = pd.read_csv(\"/datasets/final_ab_events_upd_us.csv\")\n",
    "final_ab_new_events_data = pd.read_csv(\"/datasets/final_ab_new_users_upd_us.csv\")\n",
    "final_ab_participants_data = pd.read_csv(\"/datasets/final_ab_participants_upd_us.csv\")\"\"\""
   ]
  },
  {
   "cell_type": "markdown",
   "metadata": {},
   "source": [
    "## Exploración inicial de datos"
   ]
  },
  {
   "cell_type": "markdown",
   "metadata": {},
   "source": [
    "### Revisión de dataset ab_project_marketing_data"
   ]
  },
  {
   "cell_type": "code",
   "execution_count": 4,
   "metadata": {},
   "outputs": [
    {
     "name": "stdout",
     "output_type": "stream",
     "text": [
      "- Información sobre dataset -\n",
      "                           name                   regions    start_dt  \\\n",
      "0      Christmas&New Year Promo             EU, N.America  2020-12-25   \n",
      "1  St. Valentine's Day Giveaway  EU, CIS, APAC, N.America  2020-02-14   \n",
      "2        St. Patric's Day Promo             EU, N.America  2020-03-17   \n",
      "3                  Easter Promo  EU, CIS, APAC, N.America  2020-04-12   \n",
      "4             4th of July Promo                 N.America  2020-07-04   \n",
      "\n",
      "    finish_dt  \n",
      "0  2021-01-03  \n",
      "1  2020-02-16  \n",
      "2  2020-03-19  \n",
      "3  2020-04-19  \n",
      "4  2020-07-11  \n",
      "\n",
      "<class 'pandas.core.frame.DataFrame'>\n",
      "RangeIndex: 14 entries, 0 to 13\n",
      "Data columns (total 4 columns):\n",
      " #   Column     Non-Null Count  Dtype \n",
      "---  ------     --------------  ----- \n",
      " 0   name       14 non-null     object\n",
      " 1   regions    14 non-null     object\n",
      " 2   start_dt   14 non-null     object\n",
      " 3   finish_dt  14 non-null     object\n",
      "dtypes: object(4)\n",
      "memory usage: 580.0+ bytes\n",
      "None\n",
      "\n",
      "- Datos ausentes -\n",
      "name         0\n",
      "regions      0\n",
      "start_dt     0\n",
      "finish_dt    0\n",
      "dtype: int64\n",
      "\n",
      "- Valores duplicados -\n",
      "0\n"
     ]
    }
   ],
   "source": [
    "# Revisión de datos ab_project_data\n",
    "print('- Información sobre dataset -')\n",
    "print(ab_project_marketing_data.head(5))\n",
    "print()\n",
    "print(ab_project_marketing_data.info())\n",
    "print()\n",
    "print('- Datos ausentes -')\n",
    "print(ab_project_marketing_data.isna().sum())\n",
    "print()\n",
    "print('- Valores duplicados -')\n",
    "print(ab_project_marketing_data.duplicated().sum())"
   ]
  },
  {
   "cell_type": "markdown",
   "metadata": {},
   "source": [
    "- `name`: el nombre del evento de marketing\n",
    "- `regions`: regiones donde se llevará a cabo la campaña publicitaria\n",
    "- `start_dt`: fecha de inicio de la campaña\n",
    "- `finish_dt`: fecha de finalización de la campaña"
   ]
  },
  {
   "cell_type": "code",
   "execution_count": 5,
   "metadata": {},
   "outputs": [],
   "source": [
    "# Cambio de formato de columna start_dt\n",
    "ab_project_marketing_data['start_dt'] = pd.to_datetime(ab_project_marketing_data['start_dt'])\n",
    "ab_project_marketing_data['finish_dt'] = pd.to_datetime(ab_project_marketing_data['finish_dt'])"
   ]
  },
  {
   "cell_type": "markdown",
   "metadata": {},
   "source": [
    "### Revisión de dataset final_ab_events_data"
   ]
  },
  {
   "cell_type": "code",
   "execution_count": 6,
   "metadata": {},
   "outputs": [
    {
     "name": "stdout",
     "output_type": "stream",
     "text": [
      "- Información sobre dataset -\n",
      "            user_id             event_dt event_name  details\n",
      "0  E1BDDCE0DAFA2679  2020-12-07 20:22:03   purchase    99.99\n",
      "1  7B6452F081F49504  2020-12-07 09:22:53   purchase     9.99\n",
      "2  9CD9F34546DF254C  2020-12-07 12:59:29   purchase     4.99\n",
      "3  96F27A054B191457  2020-12-07 04:02:40   purchase     4.99\n",
      "4  1FD7660FDF94CA1F  2020-12-07 10:15:09   purchase     4.99\n",
      "\n",
      "<class 'pandas.core.frame.DataFrame'>\n",
      "RangeIndex: 423761 entries, 0 to 423760\n",
      "Data columns (total 4 columns):\n",
      " #   Column      Non-Null Count   Dtype  \n",
      "---  ------      --------------   -----  \n",
      " 0   user_id     423761 non-null  object \n",
      " 1   event_dt    423761 non-null  object \n",
      " 2   event_name  423761 non-null  object \n",
      " 3   details     60314 non-null   float64\n",
      "dtypes: float64(1), object(3)\n",
      "memory usage: 12.9+ MB\n",
      "None\n",
      "\n",
      "- Datos ausentes -\n",
      "user_id            0\n",
      "event_dt           0\n",
      "event_name         0\n",
      "details       363447\n",
      "dtype: int64\n",
      "\n",
      "- Valores duplicados -\n",
      "0\n"
     ]
    }
   ],
   "source": [
    "# Revisión de dataset final_ab_events_data\n",
    "print('- Información sobre dataset -')\n",
    "print(final_ab_events_data.head())\n",
    "print()\n",
    "print(final_ab_events_data.info())\n",
    "print()\n",
    "print('- Datos ausentes -')\n",
    "print(final_ab_events_data.isna().sum())\n",
    "print()\n",
    "print('- Valores duplicados -')\n",
    "print(final_ab_events_data.duplicated().sum())"
   ]
  },
  {
   "cell_type": "markdown",
   "metadata": {},
   "source": [
    "- `user_id`\n",
    "- `event_dt`: fecha y hora del evento\n",
    "- `event_name`: nombre del tipo de evento\n",
    "- `details`: datos adicionales sobre el evento (por ejemplo, el pedido total en USD para los eventos `purchase`)"
   ]
  },
  {
   "cell_type": "code",
   "execution_count": 7,
   "metadata": {},
   "outputs": [],
   "source": [
    "# Cambio de formato de columna event_date\n",
    "final_ab_events_data['event_dt'] = pd.to_datetime(final_ab_events_data['event_dt'])"
   ]
  },
  {
   "cell_type": "code",
   "execution_count": 8,
   "metadata": {},
   "outputs": [
    {
     "data": {
      "text/plain": [
       "268988     NaN\n",
       "53040     4.99\n",
       "91207      NaN\n",
       "65551      NaN\n",
       "14284     4.99\n",
       "94451      NaN\n",
       "166242     NaN\n",
       "315535     NaN\n",
       "393066     NaN\n",
       "307891     NaN\n",
       "Name: details, dtype: float64"
      ]
     },
     "execution_count": 8,
     "metadata": {},
     "output_type": "execute_result"
    }
   ],
   "source": [
    "# Revisión de datos en la columna 'details'\n",
    "final_ab_events_data['details'].sample(10)"
   ]
  },
  {
   "cell_type": "code",
   "execution_count": 9,
   "metadata": {},
   "outputs": [
    {
     "name": "stdout",
     "output_type": "stream",
     "text": [
      "                 user_id            event_dt    event_name  details\n",
      "317510  AE933822F3F98847 2020-12-17 19:54:19         login     0.00\n",
      "270879  4625D0FC513790BC 2020-12-12 18:05:41         login     0.00\n",
      "48635   EB7EE27F44A551D5 2020-12-23 08:36:22      purchase     4.99\n",
      "57258   90543C331D6A6EE7 2020-12-27 05:27:35      purchase     4.99\n",
      "143543  7D95ED62ED968215 2020-12-12 03:39:42  product_page     0.00\n",
      "279140  28E22C47E27E2A19 2020-12-13 18:02:14         login     0.00\n",
      "197010  BFDD31D463F35AAE 2020-12-20 23:49:49  product_page     0.00\n",
      "317247  FB54FA38726D502D 2020-12-17 14:26:34         login     0.00\n",
      "407644  10549DF81E54149F 2020-12-26 15:22:31         login     0.00\n",
      "140768  2EB435DCFA729990 2020-12-12 11:52:53  product_page     0.00\n"
     ]
    }
   ],
   "source": [
    "# Revisión de datos que contienen 'NaN' en la columna 'details'\n",
    "no_purchase = final_ab_events_data[final_ab_events_data['details'].isna()]\n",
    "no_purchase.sample(10)\n",
    "\n",
    "# Se aplica reemplazo de valores NaN por 0 \n",
    "final_ab_events_data.fillna({'details':0}, inplace = True)\n",
    "print(final_ab_events_data.sample(10))"
   ]
  },
  {
   "cell_type": "code",
   "execution_count": 10,
   "metadata": {},
   "outputs": [
    {
     "data": {
      "text/plain": [
       "event_name\n",
       "login           182465\n",
       "product_page    120862\n",
       "purchase         60314\n",
       "product_cart     60120\n",
       "Name: count, dtype: int64"
      ]
     },
     "execution_count": 10,
     "metadata": {},
     "output_type": "execute_result"
    }
   ],
   "source": [
    "# Verificación de los valores de eventos\n",
    "final_ab_events_data['event_name'].value_counts()"
   ]
  },
  {
   "cell_type": "markdown",
   "metadata": {},
   "source": [
    "Columna 'details' contiene información numérica y NaN, la documentación del dataset indica que tiene la cantidad en USD para cuando el evento es 'purchase'. Se infiere que los datos NaN son 0, ya que no representan una transacción concretada. \n",
    "Se observa que hay más valores de `purchase` que de `product_cart`, lo que puede sugerir que se evita esta última etapa y se puede comprar con algo parecido a un botón 'compra rápida'"
   ]
  },
  {
   "cell_type": "markdown",
   "metadata": {},
   "source": [
    "### Revisión de dataset final_ab_new_events_data"
   ]
  },
  {
   "cell_type": "code",
   "execution_count": 11,
   "metadata": {},
   "outputs": [
    {
     "name": "stdout",
     "output_type": "stream",
     "text": [
      "- Información sobre dataset -\n",
      "                user_id  first_date     region   device\n",
      "55525  AD13ECB32CD5A112  2020-12-20       APAC  Android\n",
      "30361  F2B572D9737DE6ED  2020-12-23         EU  Android\n",
      "21585  40C2B7BF1CE07A2C  2020-12-15  N.America  Android\n",
      "7431   4BF00AA98745F2B4  2020-12-14         EU       PC\n",
      "17924  7D535874195B6A6F  2020-12-08         EU   iPhone\n",
      "40871  795900E246C0B027  2020-12-18  N.America   iPhone\n",
      "5065   8691349815230E5F  2020-12-07         EU   iPhone\n",
      "45861  E5AD148BE741E68E  2020-12-12         EU  Android\n",
      "4111   9E7A65A9C6A8CE0E  2020-12-07         EU  Android\n",
      "23266  41379F437C739C0B  2020-12-22         EU  Android\n",
      "\n",
      "<class 'pandas.core.frame.DataFrame'>\n",
      "RangeIndex: 58703 entries, 0 to 58702\n",
      "Data columns (total 4 columns):\n",
      " #   Column      Non-Null Count  Dtype \n",
      "---  ------      --------------  ----- \n",
      " 0   user_id     58703 non-null  object\n",
      " 1   first_date  58703 non-null  object\n",
      " 2   region      58703 non-null  object\n",
      " 3   device      58703 non-null  object\n",
      "dtypes: object(4)\n",
      "memory usage: 1.8+ MB\n",
      "None\n",
      "\n",
      "- Datos ausentes -\n",
      "user_id       0\n",
      "first_date    0\n",
      "region        0\n",
      "device        0\n",
      "dtype: int64\n",
      "\n",
      "- Valores duplicados -\n",
      "0\n"
     ]
    }
   ],
   "source": [
    "# Revisión de datos en dataset final_ab_new_events_data\n",
    "print('- Información sobre dataset -')\n",
    "print(final_ab_new_events_data.sample(10))\n",
    "print()\n",
    "print(final_ab_new_events_data.info())\n",
    "print()\n",
    "print('- Datos ausentes -')\n",
    "print(final_ab_new_events_data.isna().sum())\n",
    "print()\n",
    "print('- Valores duplicados -')\n",
    "print(final_ab_new_events_data.duplicated().sum())"
   ]
  },
  {
   "cell_type": "markdown",
   "metadata": {},
   "source": [
    "- `user_id`\n",
    "- `first_date`: fecha de inscripción\n",
    "- `region`\n",
    "- `device`: dispositivo utilizado para la inscripción"
   ]
  },
  {
   "cell_type": "code",
   "execution_count": 12,
   "metadata": {},
   "outputs": [],
   "source": [
    "# Se cambia el formato de la columna 'first_date' \n",
    "final_ab_new_events_data['first_date'] = pd.to_datetime(final_ab_new_events_data['first_date'])\n"
   ]
  },
  {
   "cell_type": "markdown",
   "metadata": {},
   "source": [
    "No contiene datos nulos y el único cambio realizado fue el formato de fecha en la columna 'first_date'"
   ]
  },
  {
   "cell_type": "markdown",
   "metadata": {},
   "source": [
    "### Revisión del dataset final_ab_participants_data"
   ]
  },
  {
   "cell_type": "code",
   "execution_count": 13,
   "metadata": {},
   "outputs": [
    {
     "name": "stdout",
     "output_type": "stream",
     "text": [
      "- Información sobre dataset -\n",
      "            user_id group                  ab_test\n",
      "0  D1ABA3E2887B6A73     A  recommender_system_test\n",
      "1  A7A3664BD6242119     A  recommender_system_test\n",
      "2  DABC14FDDFADD29E     A  recommender_system_test\n",
      "3  04988C5DF189632E     A  recommender_system_test\n",
      "4  4FF2998A348C484F     A  recommender_system_test\n",
      "\n",
      "<class 'pandas.core.frame.DataFrame'>\n",
      "RangeIndex: 14525 entries, 0 to 14524\n",
      "Data columns (total 3 columns):\n",
      " #   Column   Non-Null Count  Dtype \n",
      "---  ------   --------------  ----- \n",
      " 0   user_id  14525 non-null  object\n",
      " 1   group    14525 non-null  object\n",
      " 2   ab_test  14525 non-null  object\n",
      "dtypes: object(3)\n",
      "memory usage: 340.6+ KB\n",
      "None\n",
      "\n",
      "- Datos ausentes -\n",
      "user_id    0\n",
      "group      0\n",
      "ab_test    0\n",
      "dtype: int64\n",
      "\n",
      "- Valores duplicados -\n",
      "0\n"
     ]
    }
   ],
   "source": [
    "# Revisión del dataset \n",
    "\n",
    "print('- Información sobre dataset -')\n",
    "print(final_ab_participants_data.head())\n",
    "print()\n",
    "print(final_ab_participants_data.info())\n",
    "print()\n",
    "print('- Datos ausentes -')\n",
    "print(final_ab_participants_data.isna().sum())\n",
    "print()\n",
    "print('- Valores duplicados -')\n",
    "print(final_ab_participants_data.duplicated().sum())"
   ]
  },
  {
   "cell_type": "markdown",
   "metadata": {},
   "source": [
    "- `user_id`\n",
    "- `ab_test`: nombre de la prueba\n",
    "- `group`: el grupo de prueba al que pertenecía el usuario"
   ]
  },
  {
   "cell_type": "markdown",
   "metadata": {},
   "source": [
    "# Segmentación de datos para realizar test A/B"
   ]
  },
  {
   "cell_type": "markdown",
   "metadata": {},
   "source": [
    "Se requieren los datos que cumplan con las siguientes condiciones:\n",
    "* Usuarios que se hayan inscrito entre 7 (inicio de la prueba) y 18 de diciembre (14 días antes de la fecha de finalización 01-01-2021). \n",
    "* Que pertenezcan a la región de UE\n",
    "* Valor de la columna 'ab_test' = \"recommender_system_test\"\n",
    "* Nombre del evento por usuario.\n",
    "* El tiempo desde la inscripción del usuario hasta fecha de eventos este dentro de 14 días. "
   ]
  },
  {
   "cell_type": "code",
   "execution_count": 24,
   "metadata": {},
   "outputs": [
    {
     "data": {
      "text/html": [
       "<div>\n",
       "<style scoped>\n",
       "    .dataframe tbody tr th:only-of-type {\n",
       "        vertical-align: middle;\n",
       "    }\n",
       "\n",
       "    .dataframe tbody tr th {\n",
       "        vertical-align: top;\n",
       "    }\n",
       "\n",
       "    .dataframe thead th {\n",
       "        text-align: right;\n",
       "    }\n",
       "</style>\n",
       "<table border=\"1\" class=\"dataframe\">\n",
       "  <thead>\n",
       "    <tr style=\"text-align: right;\">\n",
       "      <th></th>\n",
       "      <th>user_id</th>\n",
       "      <th>group</th>\n",
       "      <th>ab_test</th>\n",
       "      <th>first_date</th>\n",
       "      <th>region</th>\n",
       "      <th>device</th>\n",
       "      <th>event_dt</th>\n",
       "      <th>event_name</th>\n",
       "      <th>details</th>\n",
       "      <th>event_date</th>\n",
       "    </tr>\n",
       "  </thead>\n",
       "  <tbody>\n",
       "    <tr>\n",
       "      <th>0</th>\n",
       "      <td>D1ABA3E2887B6A73</td>\n",
       "      <td>A</td>\n",
       "      <td>recommender_system_test</td>\n",
       "      <td>2020-12-07</td>\n",
       "      <td>EU</td>\n",
       "      <td>PC</td>\n",
       "      <td>2020-12-07 14:43:27</td>\n",
       "      <td>purchase</td>\n",
       "      <td>99.99</td>\n",
       "      <td>2020-12-07</td>\n",
       "    </tr>\n",
       "    <tr>\n",
       "      <th>1</th>\n",
       "      <td>D1ABA3E2887B6A73</td>\n",
       "      <td>A</td>\n",
       "      <td>recommender_system_test</td>\n",
       "      <td>2020-12-07</td>\n",
       "      <td>EU</td>\n",
       "      <td>PC</td>\n",
       "      <td>2020-12-07 14:43:29</td>\n",
       "      <td>product_cart</td>\n",
       "      <td>0.00</td>\n",
       "      <td>2020-12-07</td>\n",
       "    </tr>\n",
       "    <tr>\n",
       "      <th>2</th>\n",
       "      <td>D1ABA3E2887B6A73</td>\n",
       "      <td>A</td>\n",
       "      <td>recommender_system_test</td>\n",
       "      <td>2020-12-07</td>\n",
       "      <td>EU</td>\n",
       "      <td>PC</td>\n",
       "      <td>2020-12-07 14:43:27</td>\n",
       "      <td>product_page</td>\n",
       "      <td>0.00</td>\n",
       "      <td>2020-12-07</td>\n",
       "    </tr>\n",
       "    <tr>\n",
       "      <th>3</th>\n",
       "      <td>D1ABA3E2887B6A73</td>\n",
       "      <td>A</td>\n",
       "      <td>recommender_system_test</td>\n",
       "      <td>2020-12-07</td>\n",
       "      <td>EU</td>\n",
       "      <td>PC</td>\n",
       "      <td>2020-12-07 14:43:27</td>\n",
       "      <td>login</td>\n",
       "      <td>0.00</td>\n",
       "      <td>2020-12-07</td>\n",
       "    </tr>\n",
       "    <tr>\n",
       "      <th>4</th>\n",
       "      <td>A7A3664BD6242119</td>\n",
       "      <td>A</td>\n",
       "      <td>recommender_system_test</td>\n",
       "      <td>2020-12-20</td>\n",
       "      <td>EU</td>\n",
       "      <td>iPhone</td>\n",
       "      <td>2020-12-20 15:46:06</td>\n",
       "      <td>product_page</td>\n",
       "      <td>0.00</td>\n",
       "      <td>2020-12-20</td>\n",
       "    </tr>\n",
       "    <tr>\n",
       "      <th>...</th>\n",
       "      <td>...</td>\n",
       "      <td>...</td>\n",
       "      <td>...</td>\n",
       "      <td>...</td>\n",
       "      <td>...</td>\n",
       "      <td>...</td>\n",
       "      <td>...</td>\n",
       "      <td>...</td>\n",
       "      <td>...</td>\n",
       "      <td>...</td>\n",
       "    </tr>\n",
       "    <tr>\n",
       "      <th>102833</th>\n",
       "      <td>63FBE257B05F2245</td>\n",
       "      <td>A</td>\n",
       "      <td>interface_eu_test</td>\n",
       "      <td>2020-12-20</td>\n",
       "      <td>EU</td>\n",
       "      <td>Android</td>\n",
       "      <td>2020-12-23 13:03:17</td>\n",
       "      <td>login</td>\n",
       "      <td>0.00</td>\n",
       "      <td>2020-12-23</td>\n",
       "    </tr>\n",
       "    <tr>\n",
       "      <th>102834</th>\n",
       "      <td>79F9ABFB029CF724</td>\n",
       "      <td>B</td>\n",
       "      <td>interface_eu_test</td>\n",
       "      <td>2020-12-14</td>\n",
       "      <td>EU</td>\n",
       "      <td>PC</td>\n",
       "      <td>2020-12-14 19:12:49</td>\n",
       "      <td>login</td>\n",
       "      <td>0.00</td>\n",
       "      <td>2020-12-14</td>\n",
       "    </tr>\n",
       "    <tr>\n",
       "      <th>102835</th>\n",
       "      <td>79F9ABFB029CF724</td>\n",
       "      <td>B</td>\n",
       "      <td>interface_eu_test</td>\n",
       "      <td>2020-12-14</td>\n",
       "      <td>EU</td>\n",
       "      <td>PC</td>\n",
       "      <td>2020-12-15 01:50:22</td>\n",
       "      <td>login</td>\n",
       "      <td>0.00</td>\n",
       "      <td>2020-12-15</td>\n",
       "    </tr>\n",
       "    <tr>\n",
       "      <th>102836</th>\n",
       "      <td>79F9ABFB029CF724</td>\n",
       "      <td>B</td>\n",
       "      <td>interface_eu_test</td>\n",
       "      <td>2020-12-14</td>\n",
       "      <td>EU</td>\n",
       "      <td>PC</td>\n",
       "      <td>2020-12-16 19:27:36</td>\n",
       "      <td>login</td>\n",
       "      <td>0.00</td>\n",
       "      <td>2020-12-16</td>\n",
       "    </tr>\n",
       "    <tr>\n",
       "      <th>102837</th>\n",
       "      <td>79F9ABFB029CF724</td>\n",
       "      <td>B</td>\n",
       "      <td>interface_eu_test</td>\n",
       "      <td>2020-12-14</td>\n",
       "      <td>EU</td>\n",
       "      <td>PC</td>\n",
       "      <td>2020-12-20 13:04:31</td>\n",
       "      <td>login</td>\n",
       "      <td>0.00</td>\n",
       "      <td>2020-12-20</td>\n",
       "    </tr>\n",
       "  </tbody>\n",
       "</table>\n",
       "<p>102838 rows × 10 columns</p>\n",
       "</div>"
      ],
      "text/plain": [
       "                 user_id group                  ab_test first_date region  \\\n",
       "0       D1ABA3E2887B6A73     A  recommender_system_test 2020-12-07     EU   \n",
       "1       D1ABA3E2887B6A73     A  recommender_system_test 2020-12-07     EU   \n",
       "2       D1ABA3E2887B6A73     A  recommender_system_test 2020-12-07     EU   \n",
       "3       D1ABA3E2887B6A73     A  recommender_system_test 2020-12-07     EU   \n",
       "4       A7A3664BD6242119     A  recommender_system_test 2020-12-20     EU   \n",
       "...                  ...   ...                      ...        ...    ...   \n",
       "102833  63FBE257B05F2245     A        interface_eu_test 2020-12-20     EU   \n",
       "102834  79F9ABFB029CF724     B        interface_eu_test 2020-12-14     EU   \n",
       "102835  79F9ABFB029CF724     B        interface_eu_test 2020-12-14     EU   \n",
       "102836  79F9ABFB029CF724     B        interface_eu_test 2020-12-14     EU   \n",
       "102837  79F9ABFB029CF724     B        interface_eu_test 2020-12-14     EU   \n",
       "\n",
       "         device            event_dt    event_name  details  event_date  \n",
       "0            PC 2020-12-07 14:43:27      purchase    99.99  2020-12-07  \n",
       "1            PC 2020-12-07 14:43:29  product_cart     0.00  2020-12-07  \n",
       "2            PC 2020-12-07 14:43:27  product_page     0.00  2020-12-07  \n",
       "3            PC 2020-12-07 14:43:27         login     0.00  2020-12-07  \n",
       "4        iPhone 2020-12-20 15:46:06  product_page     0.00  2020-12-20  \n",
       "...         ...                 ...           ...      ...         ...  \n",
       "102833  Android 2020-12-23 13:03:17         login     0.00  2020-12-23  \n",
       "102834       PC 2020-12-14 19:12:49         login     0.00  2020-12-14  \n",
       "102835       PC 2020-12-15 01:50:22         login     0.00  2020-12-15  \n",
       "102836       PC 2020-12-16 19:27:36         login     0.00  2020-12-16  \n",
       "102837       PC 2020-12-20 13:04:31         login     0.00  2020-12-20  \n",
       "\n",
       "[102838 rows x 10 columns]"
      ]
     },
     "execution_count": 24,
     "metadata": {},
     "output_type": "execute_result"
    }
   ],
   "source": [
    "# Generación de dataset de trabajo con las columnas requeridas\n",
    "\n",
    "wdataset1 = pd.merge(final_ab_participants_data, final_ab_new_events_data, on='user_id', how = 'left')\n",
    "wdataset2 = pd.merge(wdataset1, final_ab_events_data, on = 'user_id', how = 'left')\n",
    "\n",
    "# Generación de columna con día del evento \n",
    "wdataset2['event_date'] = wdataset2['event_dt'].dt.date\n",
    "wdataset2"
   ]
  },
  {
   "cell_type": "markdown",
   "metadata": {},
   "source": [
    "Data set de trabajo contiene los grupos, ab_test, fecha de inscripción, región, dispositivo, fecha del evento, nombre del evento, y detalles \n",
    "\n",
    "Data set contiene 102,833 registros."
   ]
  },
  {
   "cell_type": "code",
   "execution_count": 23,
   "metadata": {},
   "outputs": [
    {
     "data": {
      "text/html": [
       "<div>\n",
       "<style scoped>\n",
       "    .dataframe tbody tr th:only-of-type {\n",
       "        vertical-align: middle;\n",
       "    }\n",
       "\n",
       "    .dataframe tbody tr th {\n",
       "        vertical-align: top;\n",
       "    }\n",
       "\n",
       "    .dataframe thead th {\n",
       "        text-align: right;\n",
       "    }\n",
       "</style>\n",
       "<table border=\"1\" class=\"dataframe\">\n",
       "  <thead>\n",
       "    <tr style=\"text-align: right;\">\n",
       "      <th></th>\n",
       "      <th></th>\n",
       "      <th>user_id</th>\n",
       "    </tr>\n",
       "    <tr>\n",
       "      <th>ab_test</th>\n",
       "      <th>group</th>\n",
       "      <th></th>\n",
       "    </tr>\n",
       "  </thead>\n",
       "  <tbody>\n",
       "    <tr>\n",
       "      <th rowspan=\"2\" valign=\"top\">interface_eu_test</th>\n",
       "      <th>A</th>\n",
       "      <td>5467</td>\n",
       "    </tr>\n",
       "    <tr>\n",
       "      <th>B</th>\n",
       "      <td>5383</td>\n",
       "    </tr>\n",
       "    <tr>\n",
       "      <th rowspan=\"2\" valign=\"top\">recommender_system_test</th>\n",
       "      <th>A</th>\n",
       "      <td>2747</td>\n",
       "    </tr>\n",
       "    <tr>\n",
       "      <th>B</th>\n",
       "      <td>928</td>\n",
       "    </tr>\n",
       "  </tbody>\n",
       "</table>\n",
       "</div>"
      ],
      "text/plain": [
       "                               user_id\n",
       "ab_test                 group         \n",
       "interface_eu_test       A         5467\n",
       "                        B         5383\n",
       "recommender_system_test A         2747\n",
       "                        B          928"
      ]
     },
     "execution_count": 23,
     "metadata": {},
     "output_type": "execute_result"
    }
   ],
   "source": [
    "wdataset2.groupby(['ab_test','group']).agg({'user_id':'nunique'})\n"
   ]
  },
  {
   "cell_type": "code",
   "execution_count": 25,
   "metadata": {},
   "outputs": [
    {
     "data": {
      "text/plain": [
       "event_name\n",
       "login           44705\n",
       "product_page    28961\n",
       "purchase        14854\n",
       "product_cart    14318\n",
       "Name: count, dtype: int64"
      ]
     },
     "execution_count": 25,
     "metadata": {},
     "output_type": "execute_result"
    }
   ],
   "source": [
    "wdataset2['event_name'].value_counts()"
   ]
  },
  {
   "cell_type": "code",
   "execution_count": null,
   "metadata": {},
   "outputs": [],
   "source": []
  }
 ],
 "metadata": {
  "kernelspec": {
   "display_name": "base",
   "language": "python",
   "name": "python3"
  },
  "language_info": {
   "codemirror_mode": {
    "name": "ipython",
    "version": 3
   },
   "file_extension": ".py",
   "mimetype": "text/x-python",
   "name": "python",
   "nbconvert_exporter": "python",
   "pygments_lexer": "ipython3",
   "version": "3.11.9"
  }
 },
 "nbformat": 4,
 "nbformat_minor": 2
}
