{
 "cells": [
  {
   "cell_type": "markdown",
   "metadata": {},
   "source": [
    "# Aplicaciones móviles: segmentación de usuarios y usuarias en función del comportamiento (1)"
   ]
  },
  {
   "cell_type": "markdown",
   "metadata": {},
   "source": [
    "## Introducción "
   ]
  },
  {
   "cell_type": "markdown",
   "metadata": {},
   "source": [
    "## Objetivo\n",
    "\n",
    "Identificar y caracterizar segmentos de usuarios con comportamientos diferenciados en la aplicación, con el fin de optimizar estrategias de engagement, retención y conversión, y comprender las diferencias en el comportamiento de los usuarios provenientes de diferentes canales de adquisición."
   ]
  },
  {
   "cell_type": "markdown",
   "metadata": {},
   "source": [
    "### Lista de tareas realizadas\n",
    "\n",
    "\n",
    "* Carga de librerías \n",
    "* Carga de datos\n",
    "* Exploración inicial de datos\n",
    "    * Verificar nombres de columnas y tipos de datos\n",
    "    * Modificar tipos de datos necesarios\n",
    "    * Comprobación de datos ausentes y datos duplicados\n",
    "* Ver el espacio de tiempo que abarcan los datos\n",
    "* Revisión de comportamiento de usuario por evento (primera visita, canal de ingreso, primera c)\n",
    "* Determinar el orden en que ocurren los eventos (embudo de eventos), hasta el evento objetivo 'contact_show'\n",
    "* "
   ]
  },
  {
   "cell_type": "markdown",
   "metadata": {},
   "source": [
    "## Carga de librerías "
   ]
  },
  {
   "cell_type": "code",
   "execution_count": 14,
   "metadata": {},
   "outputs": [],
   "source": [
    "# Importación de librerías \n",
    "import pandas as pd\n",
    "import os "
   ]
  },
  {
   "cell_type": "markdown",
   "metadata": {},
   "source": [
    "## Carga de datos"
   ]
  },
  {
   "cell_type": "code",
   "execution_count": 15,
   "metadata": {},
   "outputs": [],
   "source": [
    "# Carga de datos \n",
    "data_path = os.path.join(\"..\", \"datasets\")\n",
    "\n",
    "dataset1_path = os.path.join(data_path, \"mobile_dataset_us.csv\")\n",
    "dataset2_path = os.path.join(data_path, \"mobile_sources_us.csv\")\n",
    "\n",
    "data = pd.read_csv(dataset1_path)\n",
    "source = pd.read_csv(dataset2_path)"
   ]
  },
  {
   "cell_type": "markdown",
   "metadata": {},
   "source": [
    "## Exploración inicial de datos"
   ]
  },
  {
   "cell_type": "markdown",
   "metadata": {},
   "source": [
    "### Revisión de tipos de datos y datos ausentes / duplicados"
   ]
  },
  {
   "cell_type": "code",
   "execution_count": 23,
   "metadata": {},
   "outputs": [
    {
     "name": "stdout",
     "output_type": "stream",
     "text": [
      "                   event.time   event.name  \\\n",
      "0  2019-10-07 00:00:00.431357  advert_open   \n",
      "1  2019-10-07 00:00:01.236320    tips_show   \n",
      "2  2019-10-07 00:00:02.245341    tips_show   \n",
      "3  2019-10-07 00:00:07.039334    tips_show   \n",
      "4  2019-10-07 00:00:56.319813  advert_open   \n",
      "\n",
      "                                user.id  \n",
      "0  020292ab-89bc-4156-9acf-68bc2783f894  \n",
      "1  020292ab-89bc-4156-9acf-68bc2783f894  \n",
      "2  cf7eda61-9349-469f-ac27-e5b6f5ec475c  \n",
      "3  020292ab-89bc-4156-9acf-68bc2783f894  \n",
      "4  cf7eda61-9349-469f-ac27-e5b6f5ec475c  \n",
      "\n",
      "<class 'pandas.core.frame.DataFrame'>\n",
      "RangeIndex: 74197 entries, 0 to 74196\n",
      "Data columns (total 3 columns):\n",
      " #   Column      Non-Null Count  Dtype \n",
      "---  ------      --------------  ----- \n",
      " 0   event.time  74197 non-null  object\n",
      " 1   event.name  74197 non-null  object\n",
      " 2   user.id     74197 non-null  object\n",
      "dtypes: object(3)\n",
      "memory usage: 1.7+ MB\n",
      "None\n",
      "\n",
      "Cantidad de duplicados explícitos:\n",
      "0\n",
      "\n",
      "Cantidad de datos nulos:\n",
      "event.time    0\n",
      "event.name    0\n",
      "user.id       0\n",
      "dtype: int64\n"
     ]
    }
   ],
   "source": [
    "# Revisión de 'data'\n",
    "print(data.head())\n",
    "print()\n",
    "print(data.info())\n",
    "print()\n",
    "print(\"Cantidad de duplicados explícitos:\")\n",
    "print(data.duplicated().sum())\n",
    "print()\n",
    "print(\"Cantidad de datos nulos:\")\n",
    "print(data.isnull().sum())"
   ]
  },
  {
   "cell_type": "code",
   "execution_count": 29,
   "metadata": {},
   "outputs": [],
   "source": [
    "# Cambio en el formato de datos de la columna 'event.time'\n",
    "data['event.time'] = pd.to_datetime(data['event.time']).dt.date"
   ]
  },
  {
   "cell_type": "code",
   "execution_count": 25,
   "metadata": {},
   "outputs": [
    {
     "name": "stdout",
     "output_type": "stream",
     "text": [
      "                                 userId  source\n",
      "0  020292ab-89bc-4156-9acf-68bc2783f894   other\n",
      "1  cf7eda61-9349-469f-ac27-e5b6f5ec475c    bing\n",
      "2  8c356c42-3ba9-4cb6-80b8-3f868d0192c3    bing\n",
      "3  d9b06b47-0f36-419b-bbb0-3533e582a6cb   other\n",
      "4  f32e1e2a-3027-4693-b793-b7b3ff274439  google\n",
      "\n",
      "<class 'pandas.core.frame.DataFrame'>\n",
      "RangeIndex: 4293 entries, 0 to 4292\n",
      "Data columns (total 2 columns):\n",
      " #   Column  Non-Null Count  Dtype \n",
      "---  ------  --------------  ----- \n",
      " 0   userId  4293 non-null   object\n",
      " 1   source  4293 non-null   object\n",
      "dtypes: object(2)\n",
      "memory usage: 67.2+ KB\n",
      "None\n",
      "\n",
      "Cantidad de duplicados explícitos:\n",
      "0\n",
      "\n",
      "Cantidad de datos nulos:\n",
      "userId    0\n",
      "source    0\n",
      "dtype: int64\n"
     ]
    }
   ],
   "source": [
    "print(source.head())\n",
    "print()\n",
    "print(source.info())\n",
    "print()\n",
    "print(\"Cantidad de duplicados explícitos:\")\n",
    "print(source.duplicated().sum())\n",
    "print()\n",
    "print(\"Cantidad de datos nulos:\")\n",
    "print(source.isnull().sum())"
   ]
  },
  {
   "cell_type": "code",
   "execution_count": 32,
   "metadata": {},
   "outputs": [
    {
     "name": "stdout",
     "output_type": "stream",
     "text": [
      "2019-10-07\n",
      "2019-11-03\n"
     ]
    }
   ],
   "source": [
    "# Fechas iniciales y finales datos \n",
    "print(data['event.time'].min())\n",
    "print(data['event.time'].max())"
   ]
  },
  {
   "cell_type": "markdown",
   "metadata": {},
   "source": [
    "* Se tiene aproximadamente 1 mes de datos, con datos desde 07 de octubre de 2019, hasta 03 de noviembre de 2019 \n",
    "* ¿Datos por día serían más relevantes?"
   ]
  },
  {
   "cell_type": "code",
   "execution_count": 33,
   "metadata": {},
   "outputs": [
    {
     "data": {
      "text/plain": [
       "event.name\n",
       "tips_show        40055\n",
       "photos_show      10012\n",
       "advert_open       6164\n",
       "contacts_show     4450\n",
       "map               3881\n",
       "search_1          3506\n",
       "favorites_add     1417\n",
       "search_5          1049\n",
       "tips_click         814\n",
       "search_4           701\n",
       "contacts_call      541\n",
       "search_3           522\n",
       "search_6           460\n",
       "search_2           324\n",
       "search_7           222\n",
       "show_contacts       79\n",
       "Name: count, dtype: int64"
      ]
     },
     "execution_count": 33,
     "metadata": {},
     "output_type": "execute_result"
    }
   ],
   "source": [
    "# Tipos de eventos\n",
    "data['event.name'].value_counts()"
   ]
  },
  {
   "cell_type": "markdown",
   "metadata": {},
   "source": [
    "* Existen eventos como search_\\* que están relacionados con búsquedas\n",
    "* El evento show_contacts y contacts_show representan el evento objetivo, son lo mísmo. \n",
    "* ¿Cuántos usuarios hicieron más de una búsqueda? "
   ]
  },
  {
   "cell_type": "code",
   "execution_count": 34,
   "metadata": {},
   "outputs": [
    {
     "data": {
      "text/plain": [
       "source\n",
       "bing      1934\n",
       "other     1230\n",
       "google    1129\n",
       "Name: count, dtype: int64"
      ]
     },
     "execution_count": 34,
     "metadata": {},
     "output_type": "execute_result"
    }
   ],
   "source": [
    "# Fuentes \n",
    "source['source'].value_counts()"
   ]
  },
  {
   "cell_type": "markdown",
   "metadata": {},
   "source": [
    "* Las fuentes principales de búsqueda son bing y google, no se específica en la descripción del dataset a que se refiere 'otros'\n",
    "* ¿Existe diferencia significativa entre los clientes obtenidos por las principales fuentes? "
   ]
  },
  {
   "cell_type": "markdown",
   "metadata": {},
   "source": [
    "## Sección de referencias"
   ]
  },
  {
   "cell_type": "markdown",
   "metadata": {},
   "source": [
    "(1) os.path — Manipulaciones comunes de nombre de ruta\n",
    "\n"
   ]
  },
  {
   "cell_type": "markdown",
   "metadata": {},
   "source": []
  }
 ],
 "metadata": {
  "kernelspec": {
   "display_name": "base",
   "language": "python",
   "name": "python3"
  },
  "language_info": {
   "codemirror_mode": {
    "name": "ipython",
    "version": 3
   },
   "file_extension": ".py",
   "mimetype": "text/x-python",
   "name": "python",
   "nbconvert_exporter": "python",
   "pygments_lexer": "ipython3",
   "version": "3.11.9"
  }
 },
 "nbformat": 4,
 "nbformat_minor": 2
}
